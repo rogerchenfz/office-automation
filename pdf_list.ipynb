{
 "cells": [
  {
   "cell_type": "markdown",
   "metadata": {},
   "source": [
    "**<font size=5>\n",
    "批量处理文件名称\n",
    "</font>**"
   ]
  },
  {
   "cell_type": "markdown",
   "metadata": {},
   "source": [
    "在办公中可能也遇到过需要提取某文件夹下文档名称的情况。当文档数量较少时，可以通过手动来整理，但如果经常需要处理这类工作，或者文档数量很大时，就十分耗费时间了。\n",
    "\n",
    "现在有一个任务需要在文件夹下众多的文档中整理出PDF格式的文献资料，并提取名称表保存到表格文件，用作资料整理。"
   ]
  },
  {
   "cell_type": "code",
   "execution_count": 1,
   "metadata": {},
   "outputs": [
    {
     "name": "stdout",
     "output_type": "stream",
     "text": [
      "B0025 机器学习算法知识手册.pdf.rar\n",
      "book\n",
      "conda-cheatsheet.pdf\n",
      "course-beginning-python\n",
      "datascience.jpg\n",
      "eight_queens_solution.png\n",
      "final_project\n",
      "GitHub\n",
      "jupyter\n",
      "learning\n",
      "linear_regression（线性回归）\n",
      "numerical_analysis\n",
      "pandas官方文档中文版.pdf\n",
      "Project\n",
      "Python 3面向对象编程.pdf\n",
      "Python Club\n",
      "Python MOOC.docx\n",
      "Python 数据分析.pptx\n",
      "Python(英文课件）\n",
      "python-3.7\n",
      "Python-for-Data-Analysis\n",
      "Python-Machine-Learning-Second-Edition-master\n",
      "python_project.docx\n",
      "Python就业学习线路.txt\n",
      "Python数据爬取技术与实战手册\n",
      "python数据科学速查表.rar\n",
      "Python数据科学：技术详解与商业实践(代码)\n",
      "Python爬虫入门.pptx\n",
      "Python练习题.docx\n",
      "Python编程与数据分析\n",
      "Python网络爬虫从入门到实践.pdf\n",
      "Python面向对象编程指南.pdf\n",
      "QuantTide\n",
      "test\n",
      "world-university-rankings\n",
      "xk.py\n",
      "可视化\n",
      "基础.docx\n",
      "基础.txt\n",
      "小象学院\n",
      "潭州课堂\n",
      "爬虫.docx\n",
      "狗熊会\n",
      "玩转python网络爬虫配书源码\n",
      "生活中的实用编程\n",
      "经统Python讨论组\n",
      "职场套路.txt\n",
      "资料.txt\n",
      "资料查找目录.docx\n",
      "量化投资以Python为工具.pdf\n",
      "问题.txt\n"
     ]
    }
   ],
   "source": [
    "import os\n",
    "\n",
    "path = 'C:/Users/陈方舟/Desktop/Python'\n",
    "name = os.listdir(path)\n",
    "for i in name:\n",
    "    print(i)"
   ]
  },
  {
   "cell_type": "code",
   "execution_count": 2,
   "metadata": {},
   "outputs": [],
   "source": [
    "import pandas\n",
    "\n",
    "result = []\n",
    "for i in name:\n",
    "    if i.endswith('.pdf'):\n",
    "        result.append(i)\n",
    "        \n",
    "result_table = pandas.DataFrame(result)\n",
    "result_table.to_csv('pdfname.csv',encoding='utf-8-sig')"
   ]
  },
  {
   "cell_type": "code",
   "execution_count": 3,
   "metadata": {},
   "outputs": [
    {
     "data": {
      "text/html": [
       "<div>\n",
       "<style scoped>\n",
       "    .dataframe tbody tr th:only-of-type {\n",
       "        vertical-align: middle;\n",
       "    }\n",
       "\n",
       "    .dataframe tbody tr th {\n",
       "        vertical-align: top;\n",
       "    }\n",
       "\n",
       "    .dataframe thead th {\n",
       "        text-align: right;\n",
       "    }\n",
       "</style>\n",
       "<table border=\"1\" class=\"dataframe\">\n",
       "  <thead>\n",
       "    <tr style=\"text-align: right;\">\n",
       "      <th></th>\n",
       "      <th>0</th>\n",
       "    </tr>\n",
       "  </thead>\n",
       "  <tbody>\n",
       "    <tr>\n",
       "      <th>0</th>\n",
       "      <td>conda-cheatsheet.pdf</td>\n",
       "    </tr>\n",
       "    <tr>\n",
       "      <th>1</th>\n",
       "      <td>pandas官方文档中文版.pdf</td>\n",
       "    </tr>\n",
       "    <tr>\n",
       "      <th>2</th>\n",
       "      <td>Python 3面向对象编程.pdf</td>\n",
       "    </tr>\n",
       "    <tr>\n",
       "      <th>3</th>\n",
       "      <td>Python网络爬虫从入门到实践.pdf</td>\n",
       "    </tr>\n",
       "    <tr>\n",
       "      <th>4</th>\n",
       "      <td>Python面向对象编程指南.pdf</td>\n",
       "    </tr>\n",
       "    <tr>\n",
       "      <th>5</th>\n",
       "      <td>量化投资以Python为工具.pdf</td>\n",
       "    </tr>\n",
       "  </tbody>\n",
       "</table>\n",
       "</div>"
      ],
      "text/plain": [
       "                      0\n",
       "0  conda-cheatsheet.pdf\n",
       "1     pandas官方文档中文版.pdf\n",
       "2    Python 3面向对象编程.pdf\n",
       "3  Python网络爬虫从入门到实践.pdf\n",
       "4    Python面向对象编程指南.pdf\n",
       "5    量化投资以Python为工具.pdf"
      ]
     },
     "execution_count": 3,
     "metadata": {},
     "output_type": "execute_result"
    }
   ],
   "source": [
    "result_table"
   ]
  },
  {
   "cell_type": "code",
   "execution_count": null,
   "metadata": {},
   "outputs": [],
   "source": []
  }
 ],
 "metadata": {
  "kernelspec": {
   "display_name": "Python 3",
   "language": "python",
   "name": "python3"
  },
  "language_info": {
   "codemirror_mode": {
    "name": "ipython",
    "version": 3
   },
   "file_extension": ".py",
   "mimetype": "text/x-python",
   "name": "python",
   "nbconvert_exporter": "python",
   "pygments_lexer": "ipython3",
   "version": "3.6.5"
  },
  "toc": {
   "base_numbering": 1,
   "nav_menu": {},
   "number_sections": true,
   "sideBar": true,
   "skip_h1_title": false,
   "title_cell": "Table of Contents",
   "title_sidebar": "Contents",
   "toc_cell": false,
   "toc_position": {},
   "toc_section_display": true,
   "toc_window_display": false
  }
 },
 "nbformat": 4,
 "nbformat_minor": 2
}
