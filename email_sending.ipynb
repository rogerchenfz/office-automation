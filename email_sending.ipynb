{
 "cells": [
  {
   "cell_type": "markdown",
   "metadata": {},
   "source": [
    "**<font size=5>\n",
    "批量发送邮件\n",
    "</font>**"
   ]
  },
  {
   "cell_type": "markdown",
   "metadata": {},
   "source": [
    "2019年11月11日是公司10周年庆典的日子，HR需要给每位员工发送祝福邮件，并根据员工入职时间不同，告知大家领取相应不同的礼物。我们的任务是帮HR计算出每个员工的入职时长，判断他们应该领取的礼物类型，再发送邮件通知每个员工。"
   ]
  },
  {
   "cell_type": "code",
   "execution_count": 1,
   "metadata": {},
   "outputs": [],
   "source": [
    "import pandas as pd\n",
    "from datetime import datetime"
   ]
  },
  {
   "cell_type": "code",
   "execution_count": 2,
   "metadata": {},
   "outputs": [
    {
     "data": {
      "text/html": [
       "<div>\n",
       "<style scoped>\n",
       "    .dataframe tbody tr th:only-of-type {\n",
       "        vertical-align: middle;\n",
       "    }\n",
       "\n",
       "    .dataframe tbody tr th {\n",
       "        vertical-align: top;\n",
       "    }\n",
       "\n",
       "    .dataframe thead th {\n",
       "        text-align: right;\n",
       "    }\n",
       "</style>\n",
       "<table border=\"1\" class=\"dataframe\">\n",
       "  <thead>\n",
       "    <tr style=\"text-align: right;\">\n",
       "      <th></th>\n",
       "      <th>姓名</th>\n",
       "      <th>邮箱</th>\n",
       "      <th>入职时间</th>\n",
       "    </tr>\n",
       "  </thead>\n",
       "  <tbody>\n",
       "    <tr>\n",
       "      <th>0</th>\n",
       "      <td>刘健</td>\n",
       "      <td>cuiyingdan@xiaoxiangxueyuan.com</td>\n",
       "      <td>2014-03-02</td>\n",
       "    </tr>\n",
       "    <tr>\n",
       "      <th>1</th>\n",
       "      <td>黄然昕</td>\n",
       "      <td>cuiyingdan@xiaoxiangxueyuan.com</td>\n",
       "      <td>2014-08-03</td>\n",
       "    </tr>\n",
       "    <tr>\n",
       "      <th>2</th>\n",
       "      <td>赵云融</td>\n",
       "      <td>cuiyingdan@xiaoxiangxueyuan.com</td>\n",
       "      <td>2015-10-13</td>\n",
       "    </tr>\n",
       "    <tr>\n",
       "      <th>3</th>\n",
       "      <td>赵香</td>\n",
       "      <td>cuiyingdan@xiaoxiangxueyuan.com</td>\n",
       "      <td>2018-08-07</td>\n",
       "    </tr>\n",
       "    <tr>\n",
       "      <th>4</th>\n",
       "      <td>张艺悦</td>\n",
       "      <td>cuiyingdan@xiaoxiangxueyuan.com</td>\n",
       "      <td>2017-04-02</td>\n",
       "    </tr>\n",
       "  </tbody>\n",
       "</table>\n",
       "</div>"
      ],
      "text/plain": [
       "    姓名                               邮箱       入职时间\n",
       "0   刘健  cuiyingdan@xiaoxiangxueyuan.com 2014-03-02\n",
       "1  黄然昕  cuiyingdan@xiaoxiangxueyuan.com 2014-08-03\n",
       "2  赵云融  cuiyingdan@xiaoxiangxueyuan.com 2015-10-13\n",
       "3   赵香  cuiyingdan@xiaoxiangxueyuan.com 2018-08-07\n",
       "4  张艺悦  cuiyingdan@xiaoxiangxueyuan.com 2017-04-02"
      ]
     },
     "execution_count": 2,
     "metadata": {},
     "output_type": "execute_result"
    }
   ],
   "source": [
    "df = pd.read_excel('员工信息.xlsx')\n",
    "df.head()"
   ]
  },
  {
   "cell_type": "code",
   "execution_count": 3,
   "metadata": {},
   "outputs": [],
   "source": [
    "gift = ['一个月奶茶券', '运动手环+3天带薪年假抽奖名额', 'kindle阅读器+特斯拉抽奖名额']"
   ]
  },
  {
   "cell_type": "code",
   "execution_count": 4,
   "metadata": {},
   "outputs": [],
   "source": [
    "birthday = datetime(2019, 11, 11) # 公司周年庆日期"
   ]
  },
  {
   "cell_type": "markdown",
   "metadata": {},
   "source": [
    "定义一个函数，实现计算入职天数的功能，再用入职天数/365取整得到入职年限，匹配对应的礼物等级。"
   ]
  },
  {
   "cell_type": "code",
   "execution_count": 5,
   "metadata": {},
   "outputs": [],
   "source": [
    "def get_gift_type(time):\n",
    "    # 计算时间差\n",
    "    delta = birthday - time\n",
    "    delta_year = delta.days // 365\n",
    "\n",
    "    # 根据相差年份数返回奖品等级\n",
    "    if delta_year == 0:\n",
    "        return delta.days, 0\n",
    "    elif delta_year < 3:\n",
    "        return delta.days, 1\n",
    "    else:\n",
    "        return delta.days, 2"
   ]
  },
  {
   "cell_type": "markdown",
   "metadata": {},
   "source": [
    "邮件模板"
   ]
  },
  {
   "cell_type": "code",
   "execution_count": 6,
   "metadata": {},
   "outputs": [],
   "source": [
    "msg = '''\n",
    "亲爱的{}：\n",
    "\n",
    "感谢您在过去{}个日日夜夜，为了工作孜孜不倦地奋斗。值公司周年之际，我谨代表公司全体，对你的付出表达诚挚的谢意。\n",
    "在这特殊的日子，送上一份小小礼物：{}，聊表心意。\n",
    "期望在未来的日子里，我们继续携手共进，再创辉煌！\n",
    "\n",
    "    此致\n",
    "敬礼！\n",
    "\n",
    "董事长办公室\n",
    "'''"
   ]
  },
  {
   "cell_type": "markdown",
   "metadata": {},
   "source": [
    "Python内置的smtplib和email模块可以帮我们实现邮件的构造和发送功能。"
   ]
  },
  {
   "cell_type": "code",
   "execution_count": 7,
   "metadata": {},
   "outputs": [],
   "source": [
    "import smtplib\n",
    "from email.utils import formataddr\n",
    "from email.header import Header\n",
    "from email.mime.text import MIMEText\n",
    "from email.mime.multipart import MIMEMultipart\n",
    "from email.mime.application import MIMEApplication"
   ]
  },
  {
   "cell_type": "markdown",
   "metadata": {},
   "source": [
    "定义一个名为send_email的方法实现发送邮件的发送效果，邮件主题为“感谢一路有你”。"
   ]
  },
  {
   "cell_type": "code",
   "execution_count": 8,
   "metadata": {},
   "outputs": [],
   "source": [
    "def send_email(sender, password, content, receive):\n",
    "    receivers = receive\n",
    "    msg = MIMEMultipart()\n",
    "\n",
    "    msg[\"Subject\"] = \"感谢一路有你\"\n",
    "    msg[\"From\"] = sender\n",
    "    if len(receivers) > 1:\n",
    "        msg[\"To\"] = \",\".join(receivers)\n",
    "    else:\n",
    "        msg[\"To\"] = receivers[0]\n",
    "    part = MIMEText(content, _charset=\"UTF-8\")\n",
    "    msg.attach(part)\n",
    "    try:\n",
    "        smtp = smtplib.SMTP_SSL(\"smtp.exmail.qq.com\")\n",
    "        smtp.login(sender, password)\n",
    "        smtp.sendmail(sender, receivers,\n",
    "                      msg.as_string())\n",
    "        print(\"邮件发送成功\")\n",
    "    except smtplib.SMTPException as e:\n",
    "        print(\"Error, 发送失败\", e)\n",
    "    finally:\n",
    "        smtp.quit()"
   ]
  },
  {
   "cell_type": "code",
   "execution_count": 9,
   "metadata": {},
   "outputs": [],
   "source": [
    "def handle_row(row):\n",
    "    # 构建发送消息\n",
    "    name = row['姓名']\n",
    "    email = row['邮箱']\n",
    "    delta_days, gift_type = get_gift_type(row['入职时间'])\n",
    "\n",
    "    sent_msg = msg.format(name, delta_days, gift[gift_type])\n",
    "    print(sent_msg)\n",
    "\n",
    "    # 调用send_email()发送邮件\n",
    "    sender = \"xiaoxiangjun@xiaoxiangxueyuan.com\"\n",
    "    password = \"wGjtxsZ9jjGEMCm2\"\n",
    "    print('发邮件给{}...'.format(name))\n",
    "    #     receive = ['xianmaoyuan@xiaoxiangxueyuan.com']\n",
    "    receive = [email]\n",
    "    send_email(sender, password, sent_msg, receive)\n",
    "    return 'Done'"
   ]
  },
  {
   "cell_type": "code",
   "execution_count": 10,
   "metadata": {},
   "outputs": [
    {
     "name": "stdout",
     "output_type": "stream",
     "text": [
      "\n",
      "亲爱的刘健：\n",
      "\n",
      "感谢您在过去2080个日日夜夜，为了工作孜孜不倦地奋斗。值公司周年之际，我谨代表公司全体，对你的付出表达诚挚的谢意。\n",
      "在这特殊的日子，送上一份小小礼物：kindle阅读器+特斯拉抽奖名额，聊表心意。\n",
      "期望在未来的日子里，我们继续携手共进，再创辉煌！\n",
      "\n",
      "    此致\n",
      "敬礼！\n",
      "\n",
      "董事长办公室\n",
      "\n",
      "发邮件给刘健...\n",
      "邮件发送成功\n",
      "\n",
      "亲爱的黄然昕：\n",
      "\n",
      "感谢您在过去1926个日日夜夜，为了工作孜孜不倦地奋斗。值公司周年之际，我谨代表公司全体，对你的付出表达诚挚的谢意。\n",
      "在这特殊的日子，送上一份小小礼物：kindle阅读器+特斯拉抽奖名额，聊表心意。\n",
      "期望在未来的日子里，我们继续携手共进，再创辉煌！\n",
      "\n",
      "    此致\n",
      "敬礼！\n",
      "\n",
      "董事长办公室\n",
      "\n",
      "发邮件给黄然昕...\n",
      "邮件发送成功\n",
      "\n",
      "亲爱的赵云融：\n",
      "\n",
      "感谢您在过去1490个日日夜夜，为了工作孜孜不倦地奋斗。值公司周年之际，我谨代表公司全体，对你的付出表达诚挚的谢意。\n",
      "在这特殊的日子，送上一份小小礼物：kindle阅读器+特斯拉抽奖名额，聊表心意。\n",
      "期望在未来的日子里，我们继续携手共进，再创辉煌！\n",
      "\n",
      "    此致\n",
      "敬礼！\n",
      "\n",
      "董事长办公室\n",
      "\n",
      "发邮件给赵云融...\n",
      "邮件发送成功\n",
      "\n",
      "亲爱的赵香：\n",
      "\n",
      "感谢您在过去461个日日夜夜，为了工作孜孜不倦地奋斗。值公司周年之际，我谨代表公司全体，对你的付出表达诚挚的谢意。\n",
      "在这特殊的日子，送上一份小小礼物：运动手环+3天带薪年假抽奖名额，聊表心意。\n",
      "期望在未来的日子里，我们继续携手共进，再创辉煌！\n",
      "\n",
      "    此致\n",
      "敬礼！\n",
      "\n",
      "董事长办公室\n",
      "\n",
      "发邮件给赵香...\n",
      "邮件发送成功\n",
      "\n",
      "亲爱的张艺悦：\n",
      "\n",
      "感谢您在过去953个日日夜夜，为了工作孜孜不倦地奋斗。值公司周年之际，我谨代表公司全体，对你的付出表达诚挚的谢意。\n",
      "在这特殊的日子，送上一份小小礼物：运动手环+3天带薪年假抽奖名额，聊表心意。\n",
      "期望在未来的日子里，我们继续携手共进，再创辉煌！\n",
      "\n",
      "    此致\n",
      "敬礼！\n",
      "\n",
      "董事长办公室\n",
      "\n",
      "发邮件给张艺悦...\n",
      "邮件发送成功\n",
      "\n",
      "亲爱的李冰：\n",
      "\n",
      "感谢您在过去154个日日夜夜，为了工作孜孜不倦地奋斗。值公司周年之际，我谨代表公司全体，对你的付出表达诚挚的谢意。\n",
      "在这特殊的日子，送上一份小小礼物：一个月奶茶券，聊表心意。\n",
      "期望在未来的日子里，我们继续携手共进，再创辉煌！\n",
      "\n",
      "    此致\n",
      "敬礼！\n",
      "\n",
      "董事长办公室\n",
      "\n",
      "发邮件给李冰...\n",
      "邮件发送成功\n",
      "\n",
      "亲爱的吴云淳：\n",
      "\n",
      "感谢您在过去152个日日夜夜，为了工作孜孜不倦地奋斗。值公司周年之际，我谨代表公司全体，对你的付出表达诚挚的谢意。\n",
      "在这特殊的日子，送上一份小小礼物：一个月奶茶券，聊表心意。\n",
      "期望在未来的日子里，我们继续携手共进，再创辉煌！\n",
      "\n",
      "    此致\n",
      "敬礼！\n",
      "\n",
      "董事长办公室\n",
      "\n",
      "发邮件给吴云淳...\n",
      "邮件发送成功\n"
     ]
    },
    {
     "data": {
      "text/plain": [
       "0    Done\n",
       "1    Done\n",
       "2    Done\n",
       "3    Done\n",
       "4    Done\n",
       "5    Done\n",
       "6    Done\n",
       "dtype: object"
      ]
     },
     "execution_count": 10,
     "metadata": {},
     "output_type": "execute_result"
    }
   ],
   "source": [
    "df.apply(handle_row, axis=1)"
   ]
  }
 ],
 "metadata": {
  "kernelspec": {
   "display_name": "Python 3",
   "language": "python",
   "name": "python3"
  },
  "language_info": {
   "codemirror_mode": {
    "name": "ipython",
    "version": 3
   },
   "file_extension": ".py",
   "mimetype": "text/x-python",
   "name": "python",
   "nbconvert_exporter": "python",
   "pygments_lexer": "ipython3",
   "version": "3.6.5"
  },
  "toc": {
   "base_numbering": 1,
   "nav_menu": {},
   "number_sections": true,
   "sideBar": true,
   "skip_h1_title": false,
   "title_cell": "Table of Contents",
   "title_sidebar": "Contents",
   "toc_cell": false,
   "toc_position": {},
   "toc_section_display": true,
   "toc_window_display": false
  }
 },
 "nbformat": 4,
 "nbformat_minor": 2
}
